{
  "nbformat": 4,
  "nbformat_minor": 0,
  "metadata": {
    "colab": {
      "provenance": [],
      "authorship_tag": "ABX9TyP/h6ex1qChJ11stbj5tyLo",
      "include_colab_link": true
    },
    "kernelspec": {
      "name": "python3",
      "display_name": "Python 3"
    },
    "language_info": {
      "name": "python"
    }
  },
  "cells": [
    {
      "cell_type": "markdown",
      "metadata": {
        "id": "view-in-github",
        "colab_type": "text"
      },
      "source": [
        "<a href=\"https://colab.research.google.com/github/LamaAlawlaqi/MASAR/blob/main/hw2.ipynb\" target=\"_parent\"><img src=\"https://colab.research.google.com/assets/colab-badge.svg\" alt=\"Open In Colab\"/></a>"
      ]
    },
    {
      "cell_type": "code",
      "execution_count": 5,
      "metadata": {
        "colab": {
          "base_uri": "https://localhost:8080/"
        },
        "id": "goVeHItClesE",
        "outputId": "b021dba6-c8ab-4ac3-eaef-692746fba9b2"
      },
      "outputs": [
        {
          "output_type": "stream",
          "name": "stdout",
          "text": [
            "bonus average 20.0%\n"
          ]
        }
      ],
      "source": [
        "#define calculate bonus method\n",
        "def calculate_bonus(experience_years, evaluation):\n",
        "  if experience_years <= 10:\n",
        "    if evaluation == \"Excellent\":\n",
        "      bonus_percentage = 0.10\n",
        "    elif evaluation == \"Poor\":\n",
        "      bonus_percentage = 0.05\n",
        "    else:\n",
        "      bonus_percentage = 0\n",
        "  else:\n",
        "    if evaluation == \"Excellent\":\n",
        "      bonus_percentage = 0.20\n",
        "    elif evaluation == \"Poor\":\n",
        "      bonus_percentage = 0.15\n",
        "    else:\n",
        "      bonus_percentage = 0\n",
        "  return bonus_percentage\n",
        "\n",
        "#assign variables\n",
        "employee_years = 12\n",
        "employee_evaluation = \"Excellent\"\n",
        "\n",
        "#calculate bonus\n",
        "bonus = calculate_bonus(employee_years, employee_evaluation)\n",
        "\n",
        "#print the bonus average based on the assigned variables\n",
        "print(f\"bonus average {bonus * 100}%\")"
      ]
    }
  ]
}
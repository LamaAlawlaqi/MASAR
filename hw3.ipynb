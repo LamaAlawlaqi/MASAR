{
  "nbformat": 4,
  "nbformat_minor": 0,
  "metadata": {
    "colab": {
      "provenance": [],
      "authorship_tag": "ABX9TyPXmRuiSObwrfc+ZBCGZXsQ",
      "include_colab_link": true
    },
    "kernelspec": {
      "name": "python3",
      "display_name": "Python 3"
    },
    "language_info": {
      "name": "python"
    }
  },
  "cells": [
    {
      "cell_type": "markdown",
      "metadata": {
        "id": "view-in-github",
        "colab_type": "text"
      },
      "source": [
        "<a href=\"https://colab.research.google.com/github/LamaAlawlaqi/MASAR/blob/main/hw3.ipynb\" target=\"_parent\"><img src=\"https://colab.research.google.com/assets/colab-badge.svg\" alt=\"Open In Colab\"/></a>"
      ]
    },
    {
      "cell_type": "markdown",
      "source": [
        "# HW3"
      ],
      "metadata": {
        "id": "HUADxaOkZ8S-"
      }
    },
    {
      "cell_type": "markdown",
      "source": [
        "1. Write a Python program to construct the following pattern, using a nested for loop. (Get the number of the 'stars' from the user)."
      ],
      "metadata": {
        "id": "Dj4RGbcNaLfG"
      }
    },
    {
      "cell_type": "code",
      "execution_count": null,
      "metadata": {
        "id": "irt1wupMZsmk"
      },
      "outputs": [],
      "source": [
        "#get the number of the stars from the user\n",
        "largest_row_size = int(input(\"Enter the size of largest row: \"))\n",
        "#outer for loop to print the number of rows\n",
        "for i in range(1, largest_row_size):\n",
        "  #inner for loop to print the stars\n",
        "   for j in range(i):\n",
        "       print('*', end='')\n",
        "   print()\n",
        "#outer for loop to decrement the number of rows\n",
        "for i in range(largest_row_size-1, 0, -1):\n",
        "  #inner for loop to print the stars\n",
        "   for j in range(i):\n",
        "       print('*', end='')\n",
        "   print()"
      ]
    },
    {
      "cell_type": "markdown",
      "source": [
        "2. Print the first 3 prime numbers that are greater than 10 but less than 99."
      ],
      "metadata": {
        "id": "X3vnJnXKaV0_"
      }
    },
    {
      "cell_type": "code",
      "source": [
        "#assign the first primary number greater than 10\n",
        "x = 11\n",
        "#assign a variable to count\n",
        "prime_count = 0\n",
        "#set a condition to not exceed 3\n",
        "while prime_count < 3:\n",
        "  #if condition for primary numbers that are greater than 10 but less than 99\n",
        "  if x > 9 and x < 99:\n",
        "    #assign a boolean variable\n",
        "    is_prime = True\n",
        "    #divid by numbers starting from 2 and get integer numbers\n",
        "    for d in range(2, x // 2 + 1):\n",
        "      #if the reminder == 0 then set the boolean variable to false\n",
        "      if x % d == 0:\n",
        "        is_prime = False\n",
        "    #if the reminder != 0 then print the number\n",
        "    if is_prime:\n",
        "      print(x)\n",
        "      #increment the counter\n",
        "      prime_count += 1\n",
        "  #re-assign the primary number\n",
        "  x += 1"
      ],
      "metadata": {
        "id": "5Ugrc033aaN9"
      },
      "execution_count": null,
      "outputs": []
    }
  ]
}
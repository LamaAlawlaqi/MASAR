{
  "nbformat": 4,
  "nbformat_minor": 0,
  "metadata": {
    "colab": {
      "provenance": [],
      "authorship_tag": "ABX9TyN7WSE78tlEtbEKHwBn9kcf",
      "include_colab_link": true
    },
    "kernelspec": {
      "name": "python3",
      "display_name": "Python 3"
    },
    "language_info": {
      "name": "python"
    }
  },
  "cells": [
    {
      "cell_type": "markdown",
      "metadata": {
        "id": "view-in-github",
        "colab_type": "text"
      },
      "source": [
        "<a href=\"https://colab.research.google.com/github/LamaAlawlaqi/MASAR/blob/main/quiz.ipynb\" target=\"_parent\"><img src=\"https://colab.research.google.com/assets/colab-badge.svg\" alt=\"Open In Colab\"/></a>"
      ]
    },
    {
      "cell_type": "code",
      "execution_count": 1,
      "metadata": {
        "colab": {
          "base_uri": "https://localhost:8080/"
        },
        "id": "_zi0azV4UBHV",
        "outputId": "46714fe8-6de3-4b79-8045-a805d6241b9a"
      },
      "outputs": [
        {
          "output_type": "stream",
          "name": "stdout",
          "text": [
            "[4, 6]\n"
          ]
        }
      ],
      "source": [
        "#define a method two sum\n",
        "def twoSum(nums, target):\n",
        "    #create a dictionary to store the difference between the target sum and each number\n",
        "    d = {}\n",
        "    #iterate through the array\n",
        "    for i, num in enumerate(nums):\n",
        "        #calculate the difference needed to reach the target sum\n",
        "        complement = target - num\n",
        "        #if the difference is already in the dictionary, it means we found the pair\n",
        "        if complement in d:\n",
        "            #return the indices of the current number and the number that makes up the target sum\n",
        "            return [d[complement], i]\n",
        "        d[num] = i\n",
        "    #ifno solution is found, return an empty list\n",
        "    return []\n",
        "#example\n",
        "nums = [2, 5, 11, 15,6,7,9,10]\n",
        "target = 15\n",
        "print(twoSum(nums, target))"
      ]
    }
  ]
}
{
  "nbformat": 4,
  "nbformat_minor": 0,
  "metadata": {
    "colab": {
      "provenance": [],
      "authorship_tag": "ABX9TyNTdhYkxUPHkfjW/Kh8UJun",
      "include_colab_link": true
    },
    "kernelspec": {
      "name": "python3",
      "display_name": "Python 3"
    },
    "language_info": {
      "name": "python"
    }
  },
  "cells": [
    {
      "cell_type": "markdown",
      "metadata": {
        "id": "view-in-github",
        "colab_type": "text"
      },
      "source": [
        "<a href=\"https://colab.research.google.com/github/LamaAlawlaqi/MASAR/blob/main/python_hw1.ipynb\" target=\"_parent\"><img src=\"https://colab.research.google.com/assets/colab-badge.svg\" alt=\"Open In Colab\"/></a>"
      ]
    },
    {
      "cell_type": "code",
      "execution_count": 5,
      "metadata": {
        "colab": {
          "base_uri": "https://localhost:8080/"
        },
        "id": "N5sgMaXcCvcP",
        "outputId": "42bbe344-fcb1-42e6-da9b-11e359af34f8"
      },
      "outputs": [
        {
          "output_type": "stream",
          "name": "stdout",
          "text": [
            "Hi everyone, my name is Lama, my age 33, and I will be the best data scientist.\n"
          ]
        }
      ],
      "source": [
        "#Python HW #1\n",
        "#assign the variables\n",
        "name = 'Lama'\n",
        "age = '33'\n",
        "#print the output\n",
        "print(f'Hi everyone, my name is {name}, my age {age}, and I will be the best data scientist.')\n"
      ]
    }
  ]
}